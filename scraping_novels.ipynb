{
 "cells": [
  {
   "cell_type": "markdown",
   "metadata": {},
   "source": [
    "<h1>Web Scraping para Sites de Novels Chinesas</h1>\n",
    "<p>Este script foi desenvolvido para facilitar o acesso às melhores novels chinesas, selecionadas com base no gosto do programador que o criou.</p>\n",
    "<p><strong>Funcionalidades:</strong></p>\n",
    "<ul>\n",
    "    <li>Exibe uma lista de novels altamente recomendadas para leitura.</li>\n",
    "    <li>Permite ao usuário escolher uma novel da lista.</li>\n",
    "    <li>Oferece a opção de selecionar quantos capítulos deseja ler.</li>\n",
    "    <li>Permite definir o capítulo inicial para começar a leitura.</li>\n",
    "    <li>Salva todos os capítulos selecionados em um arquivo <code>.txt</code>, com título e conteúdo formatados.</li>\n",
    "</ul>\n",
    "<p><strong>Objetivo:</strong> Tornar a leitura de novels chinesas acessível e organizada, armazenando o conteúdo de maneira prática para consulta offline.</p>\n"
   ]
  },
  {
   "cell_type": "code",
   "execution_count": null,
   "metadata": {},
   "outputs": [],
   "source": [
    "import requests\n",
    "from bs4 import BeautifulSoup\n",
    "import pandas as pd\n",
    "from googletrans import Translator "
   ]
  },
  {
   "cell_type": "markdown",
   "metadata": {},
   "source": [
    "<h1>GET TOTAL PAGES</h1>\n",
    "<p>Este módulo é responsável por determinar o número total de páginas disponíveis em uma novel no site.</p>\n",
    "<p><strong>Funcionalidade:</strong></p>\n",
    "<ul>\n",
    "    <li>Acessa a URL da novel e analisa o conteúdo de cada página.</li>\n",
    "    <li>Identifica quando a navegação atinge o final da lista de capítulos.</li>\n",
    "    <li>Retorna o número total de páginas disponíveis para a novel.</li>\n",
    "</ul>\n",
    "<p><strong>Uso:</strong> Essencial para mapear todos os capítulos de uma novel, permitindo que o script acesse e colete links de capítulos de forma eficiente.</p>\n"
   ]
  },
  {
   "cell_type": "code",
   "execution_count": 26,
   "metadata": {},
   "outputs": [],
   "source": [
    "def get_total_pages(novel_url, header):\n",
    "\n",
    "    total_page = 1\n",
    "    previous_page_content = None\n",
    "    max_pages = 500\n",
    "\n",
    "    list_page = []\n",
    "\n",
    "    while total_page <= max_pages:\n",
    "        novel_page = f\"{novel_url}?page={total_page}\"\n",
    "        response = requests.get(novel_page, headers=header)    \n",
    "\n",
    "\n",
    "\n",
    "\n",
    "        soup = BeautifulSoup(response.content, \"html.parser\")\n",
    "        current_page_content = soup.select(\".list-chapter li a\")\n",
    "        list_page.append(current_page_content)\n",
    "        \n",
    "        if previous_page_content == current_page_content:\n",
    "  \n",
    "            break\n",
    "\n",
    "        previous_page_content = current_page_content\n",
    "        total_page += 1\n",
    "\n",
    "    return total_page -1 "
   ]
  },
  {
   "cell_type": "markdown",
   "metadata": {},
   "source": [
    "<h1>ALL CHAPTERS ON PAGES</h1>\n",
    "\n",
    "<p>Este módulo coleta todos os links de capítulos disponíveis para uma novel, página por página.</p>\n",
    "<p><strong>Funcionalidade:</strong></p>\n",
    "<ul>\n",
    "    <li>Navega por cada página da novel utilizando a URL base.</li>\n",
    "    <li>Identifica os links individuais de cada capítulo através de seletores HTML.</li>\n",
    "    <li>Armazena todos os links em uma lista organizada.</li>\n",
    "</ul>\n",
    "<p><strong>Uso:</strong> Essencial para criar um mapeamento completo dos capítulos da novel, permitindo que o conteúdo seja acessado e processado posteriormente.</p>\n"
   ]
  },
  {
   "cell_type": "code",
   "execution_count": null,
   "metadata": {},
   "outputs": [],
   "source": [
    "def get_all_chapter_links(novel_url, header):\n",
    "    total_pages = get_total_pages(novel_url, header)\n",
    "    all_chapters = []\n",
    "\n",
    "    for page in range(1, total_pages + 1):\n",
    "        page_url = f\"{novel_url}?page={page}\"\n",
    "\n",
    "        response = requests.get(page_url, headers=header)\n",
    "        if response.status_code != 200:\n",
    "            print(\"Error in Script. Try again.\")\n",
    "            continue\n",
    "\n",
    "        \n",
    "        soup = BeautifulSoup(response.content, \"html.parser\")\n",
    "        chapters = soup.select(\".list-chapter a\")\n",
    "        \n",
    "        for chapter in chapters:\n",
    "            chapter_link = f\"https://novelfull.com{chapter['href']}\"\n",
    "            all_chapters.append(chapter_link)\n",
    "            \n",
    "\n",
    "    return all_chapters\n",
    "\n"
   ]
  },
  {
   "cell_type": "markdown",
   "metadata": {},
   "source": [
    "<h1>SCRAPING OF CHAPTER CONTENT, SUCH AS TITLE</h1>\n",
    "\n",
    "<p>Este módulo é responsável por obter as informações completas de um capítulo específico de uma novel.</p>\n",
    "<p><strong>Funcionalidade:</strong></p>\n",
    "<ul>\n",
    "    <li>Acessa a página de um capítulo usando o link fornecido.</li>\n",
    "    <li>Extrai o título do capítulo utilizando seletores específicos do HTML.</li>\n",
    "    <li>Coleta o conteúdo principal do capítulo, garantindo a formatação adequada, como quebras de linha.</li>\n",
    "</ul>\n",
    "<p><strong>Importância:</strong> Permite acessar e salvar o conteúdo textual detalhado de cada capítulo, essencial para leitura offline ou análise posterior.</p>\n",
    "<p><strong>Uso:</strong> Pode ser integrado para criar arquivos consolidados de capítulos, como compilações completas de novels.</p>\n"
   ]
  },
  {
   "cell_type": "code",
   "execution_count": null,
   "metadata": {},
   "outputs": [],
   "source": [
    "def scrape_chapter_content(chapter_url, header):\n",
    "    response = requests.get(chapter_url, headers=header)\n",
    "    if response.status_code != 200:\n",
    "        print(\"ERROR\")\n",
    "        return None\n",
    "    \n",
    "    soup = BeautifulSoup(response.content, \"html.parser\")\n",
    "    chapter_title = soup.select_one(\".chapter-title\").text.strip()\n",
    "    chapter_content = soup.select_one(\".chapter-c\").get_text(separator=\"/n\").strip()\n",
    "    return chapter_title, chapter_content\n"
   ]
  },
  {
   "cell_type": "markdown",
   "metadata": {},
   "source": [
    "\n",
    "<h1>SAVES THE CHAPTER IN FILE TXT</h1>\n",
    "\n",
    "\n",
    "\n",
    "<p>Este módulo permite salvar o conteúdo dos capítulos selecionados em um único arquivo de texto.</p>\n",
    "<p><strong>Funcionalidade:</strong></p>\n",
    "<ul>\n",
    "    <li>Recebe o conteúdo de vários capítulos, incluindo títulos e texto principal.</li>\n",
    "    <li>Cria um arquivo <code>.txt</code> com o nome personalizado, indicando a novel e os capítulos incluídos.</li>\n",
    "    <li>Garante a formatação adequada do texto para facilitar a leitura.</li>\n",
    "</ul>\n",
    "<p><strong>Importância:</strong> Oferece uma forma prática de armazenar os capítulos para leitura offline, preservando o conteúdo de forma organizada.</p>\n",
    "<p><strong>Uso:</strong> Ideal para usuários que desejam acessar suas novels favoritas sem depender de conexão com a internet ou leitura direta no navegador.</p>\n"
   ]
  },
  {
   "cell_type": "code",
   "execution_count": 24,
   "metadata": {},
   "outputs": [],
   "source": [
    "def saved_chapter(novel_url, start_chapter, num_chapters, output_file,header):\n",
    "\n",
    "    all_chapters= get_all_chapter_links(novel_url, header)\n",
    "\n",
    "    if start_chapter > len(all_chapters) or start_chapter <=0:\n",
    "        print(\"Esse capitulo não existe, tente novamente.\")\n",
    "        return\n",
    "\n",
    "\n",
    "    #seleciona os capitulos desejados.\n",
    "    chapter_urls = all_chapters[start_chapter - 1: start_chapter + num_chapters -1]\n",
    "\n",
    "        \n",
    "    with open(output_file, \"w\", encoding=\"utf-8\") as f:\n",
    "        for chapter_url in chapter_urls:\n",
    "            title, content = scrape_chapter_content(chapter_url, header)\n",
    "\n",
    "            if title and content:\n",
    "                content = content.replace(\"/n\", \"\\n\")\n",
    "                f.write(f\"{title}\\n\\n{content}\\n\\n\")\n",
    "                print(f\"capitulo {title} salvo com sucesso\")\n",
    "\n"
   ]
  },
  {
   "cell_type": "markdown",
   "metadata": {},
   "source": [
    "\n",
    "<h1>SYNOPSIS FROM EVERY NOVEL</h1>\n",
    "\n",
    "<p>Este módulo coleta e exibe a sinopse de cada novel disponível no site.</p>\n",
    "<p><strong>Funcionalidade:</strong></p>\n",
    "<ul>\n",
    "    <li>Extrai o resumo ou descrição principal de cada novel usando web scraping.</li>\n",
    "    <li>Fornece uma visão geral rápida da história, ajudando o usuário a escolher qual novel deseja ler.</li>\n",
    "    <li>As sinopses são armazenadas em um DataFrame para fácil acesso e podem ser exibidas juntamente com outras informações.</li>\n",
    "</ul>\n",
    "<p><strong>Importância:</strong> Permite ao usuário entender o enredo básico de cada novel antes de fazer sua escolha.</p>\n",
    "<p><strong>Uso:</strong> Ideal para leitores que procuram novas histórias ou desejam explorar diferentes gêneros.</p>\n",
    "\n",
    "\n"
   ]
  },
  {
   "cell_type": "code",
   "execution_count": null,
   "metadata": {},
   "outputs": [],
   "source": [
    "#\"desc-text\"\n",
    "\n",
    "def scrape_sinopse(chapter_url, header):\n",
    "    response = requests.get(chapter_url, headers=header)\n",
    "    if response.status_code != 200:\n",
    "        print(\"ERROR\")\n",
    "        return None\n",
    "    \n",
    "    soup = BeautifulSoup(response.content, \"html.parser\")\n",
    "    chapter_sinopse = soup.select_one(\".desc-text\").text.strip()\n",
    "\n",
    "    return chapter_sinopse\n",
    "\n",
    "    \n",
    "    \n",
    "    "
   ]
  },
  {
   "cell_type": "markdown",
   "metadata": {},
   "source": [
    "\n",
    "<h1>RATINGS AND TOTAL WATCHED</h1>\n",
    "<p>Este módulo coleta informações sobre a avaliação e a popularidade de cada novel.</p>\n",
    "<p><strong>Funcionalidade:</strong></p>\n",
    "<ul>\n",
    "    <li>Obtém a classificação (rating) média de cada novel, refletindo a qualidade percebida pelos leitores.</li>\n",
    "    <li>Coleta o número total de visualizações ou leituras, indicando a popularidade de cada história.</li>\n",
    "    <li>As informações são armazenadas em um DataFrame para análise e exibição.</li>\n",
    "</ul>\n",
    "<p><strong>Importância:</strong></p>\n",
    "<ul>\n",
    "    <li>Ajuda o usuário a identificar as novels mais apreciadas e mais lidas.</li>\n",
    "    <li>Fornece critérios adicionais para selecionar uma história, além da sinopse.</li>\n",
    "</ul>\n",
    "<p><strong>Uso:</strong> Recomendado para leitores que desejam explorar histórias bem avaliadas ou altamente populares.</p>\n"
   ]
  },
  {
   "cell_type": "code",
   "execution_count": null,
   "metadata": {},
   "outputs": [],
   "source": [
    "def scrape_rating(chapter_url, header):\n",
    "    #small\n",
    "    response = requests.get(chapter_url, headers=header)\n",
    "    if response.status_code != 200:\n",
    "        print(\"Error\")\n",
    "        return None\n",
    "\n",
    "    soup = BeautifulSoup(response.content, \"html.parser\")\n",
    "    chapter_rating = soup.select_one(\".small\").text.strip()\n",
    "\n",
    "    chapter_rating = chapter_rating.replace(\"\\r\", \":\")\n",
    "    return chapter_rating\n",
    "    "
   ]
  },
  {
   "cell_type": "markdown",
   "metadata": {
    "vscode": {
     "languageId": "html"
    }
   },
   "source": [
    "<h1>DATA FRAME PREVIEW</h1>\n",
    "\n",
    "<p>Este segmento do código é responsável por estruturar e exibir os dados coletados das novels em um formato de DataFrame, facilitando a análise e manipulação das informações.</p>\n",
    "<p><strong>Funcionalidades principais:</strong></p>\n",
    "<ul>\n",
    "    <li>Criação de um DataFrame contendo as seguintes colunas:\n",
    "        <ul>\n",
    "            <li><strong>Título:</strong> Nome da novel.</li>\n",
    "            <li><strong>URL:</strong> Link da página principal da novel.</li>\n",
    "            <li><strong>Sinopse:</strong> Breve descrição da história da novel.</li>\n",
    "            <li><strong>Rating:</strong> Avaliação da novel e total de visualizações (se disponível).</li>\n",
    "        </ul>\n",
    "    </li>\n",
    "    <li>Adiciona dinamicamente as colunas <em>Sinopse</em> e <em>Rating</em> utilizando funções de web scraping aplicadas aos links fornecidos.</li>\n",
    "    <li>Configura o ambiente de exibição para apresentar todos os dados de forma completa, incluindo todas as linhas, colunas e textos extensos.</li>\n",
    "</ul>\n",
    "<p><strong>Benefício:</strong> Com esta estrutura, o usuário pode visualizar e comparar as informações de todas as novels disponíveis em um único local.</p>\n",
    "\n"
   ]
  },
  {
   "cell_type": "code",
   "execution_count": null,
   "metadata": {},
   "outputs": [],
   "source": [
    "header = {\n",
    "    \"User-Agent\": 'Mozilla/5.0 (Windows NT 10.0; Win64; x64) AppleWebKit/537.36 (KHTML, like Gecko) Chrome/130.0.0.0 Safari/537.36 Edg/130.0.0.0'\n",
    "}\n",
    "\n",
    "a = {\n",
    "    \"Contra os Deuses\": \"https://novelfull.com/against-the-gods.html\" ,\n",
    "    \"Deus da Medicina Incomparável\": \"https://novelfull.com/unrivaled-medicine-god.html\",\n",
    "    \"Deus Marcial Inigualável\": \"https://novelfull.com/peerless-martial-god.html\",\n",
    "    \"A Mecânica Lendária\": \"https://novelfull.com/the-legendary-mechanic.html\",\n",
    "    \"Reverendo Insanidade\": \"https://novelfull.com/reverend-insanity.html\" ,\n",
    "    \"Antigo Monarca\": \"https://novelfull.com/ancient-godly-monarch.html\",\n",
    "    \"Rei dos Deuse\": \"https://novelfull.com/king-of-gods.html\",\n",
    "    \"Deus da Matança\": \"https://novelfull.com/king-of-gods.html\",\n",
    "    \"Técnica de Fortalecimento Ancestral\": \"https://novelfull.com/ancient-strengthening-technique.html\",\n",
    "    \"Verdadeiro Mundo Marcial\": \"https://novelfull.com/true-martial-world.html\",\n",
    "    \"Filho Abandonado Mais Forte\": \"https://novelfull.com/strongest-abandoned-son.html\",\n",
    "    \"Paraíso dos Monstros\": \"https://novelfull.com/monster-paradise.html\",\n",
    "    \"Imortal Renegado\": \"https://novelfull.com/renegade-immortal.html\",\n",
    "    \"Estrela engolida\": \"https://novelfull.com/swallowed-star.html\",\n",
    "    \"Bruxo do Mundo dos Magos\": \"https://novelfull.com/warlock-of-the-magus-world.html\",\n",
    "    \"Monarca do Mal de Outro Mundo\": \"https://novelfull.com/otherworldly-evil-monarch.html\",\n",
    "    \"Retornando do Mundo Imortal\": \"https://novelfull.com/returning-from-the-immortal-world.html\",\n",
    "    \"O irmão sênior mais forte da história\": \"https://novelfull.com/historys-strongest-senior-brother.html\",\n",
    "    \"Wu Dong Qian Kun\": \"https://novelfull.com/wu-dong-qian-kun.html\",\n",
    "    \"Deus Marcial Inigualável 2\": \"https://novelfull.com/peerless-martial-god-2.html\",\n",
    "    \"Grande Rei Demônio\": \"https://novelfull.com/great-demon-king.html\",\n",
    "    \"Deus e o Mundo do Diabo\": \"https://novelfull.com/god-and-devil-world.html\",\n",
    "    \"Paraíso dos Deuses Demoníacos\": \"https://novelfull.com/paradise-of-demons-and-gods.html\",\n",
    "\n",
    "    }\n",
    "\n",
    "data = pd.DataFrame(list(a.items()), columns=[\"titulo\", \"Url\"])\n",
    "\n",
    "#adciona a coluna de sinopse\n",
    "data[\"Sinopse\"] =data[\"Url\"].apply(lambda url: scrape_sinopse(url, header))\n",
    "\n",
    "#adciona a coluna de avaliações\n",
    "data[\"Rating\"] = data[\"Url\"].apply(lambda url: scrape_rating(url, header))\n",
    "\n",
    "\n",
    "# Configurar para exibir todas as linhas e colunas\n",
    "pd.set_option('display.max_rows', None)  # Exibe todas as linhas\n",
    "pd.set_option('display.max_columns', None)  # Exibe todas as colunas\n",
    "pd.set_option('display.width', None)  # Ajusta a largura da tabela\n",
    "pd.set_option('display.max_colwidth', None)  # Exibe texto completo nas células\n",
    "\n",
    "\n",
    "data\n",
    "\n",
    "\n",
    "\n"
   ]
  },
  {
   "cell_type": "markdown",
   "metadata": {},
   "source": [
    "<h1>INTERACTIVE USER INPUT FOR CHAPTER SELECTION</h1>\n",
    "<p>Este segmento do código permite que o usuário escolha uma novel e defina os parâmetros de leitura, como o número de capítulos que deseja ler e o capítulo inicial.</p>\n",
    "<p><strong>Funcionalidades principais:</strong></p>\n",
    "<ul>\n",
    "    <li>Solicita ao usuário a escolha da novel a partir de uma tabela pré-definida, utilizando um número de índice (<code>choise_novel</code>).</li>\n",
    "    <li>Pede ao usuário para definir quantos capítulos deseja ler (<code>num_chapters</code>) e qual será o primeiro capítulo da leitura (<code>start_chapter</code>).</li>\n",
    "    <li>Com base na escolha da novel, o código extrai a URL correspondente da tabela de dados (<code>novel_url</code>), permitindo o acesso ao conteúdo da novel.</li>\n",
    "    <li>Cria dinamicamente um nome para o arquivo de saída (<code>output_file</code>) com base no título da novel e no intervalo de capítulos selecionados.</li>\n",
    "    <li>Chama a função <code>saved_chapter</code> para iniciar o processo de scraping dos capítulos desejados e salvá-los no arquivo de saída.</li>\n",
    "</ul>\n",
    "<p><strong>Benefício:</strong> Essa interação com o usuário oferece uma maneira simples e personalizada de escolher uma novel, definir a quantidade de capítulos e armazená-los de forma organizada para leitura posterior.</p>\n"
   ]
  },
  {
   "cell_type": "code",
   "execution_count": null,
   "metadata": {},
   "outputs": [],
   "source": [
    "\n",
    "\n",
    "choise_novel = int(input(\"De acordo com a tabela de novels, escolha a novel baseado no numero: \"))\n",
    "num_chapters = int(input(\"Quantos capitulos vc quer ler?  \"))\n",
    "start_chapter = int(input(\"Qual capitulo vc quer iniciar? \"))\n",
    "novel_url = data[\"Url\"][choise_novel]\n",
    "\n",
    "\n",
    "output_file = f\"{data['titulo'][choise_novel]} do capitulo {start_chapter} até {start_chapter + num_chapters}\"\n",
    "\n",
    "b = saved_chapter(novel_url, start_chapter, num_chapters, output_file, header)"
   ]
  }
 ],
 "metadata": {
  "kernelspec": {
   "display_name": "Python 3",
   "language": "python",
   "name": "python3"
  },
  "language_info": {
   "codemirror_mode": {
    "name": "ipython",
    "version": 3
   },
   "file_extension": ".py",
   "mimetype": "text/x-python",
   "name": "python",
   "nbconvert_exporter": "python",
   "pygments_lexer": "ipython3",
   "version": "3.10.11"
  }
 },
 "nbformat": 4,
 "nbformat_minor": 2
}
